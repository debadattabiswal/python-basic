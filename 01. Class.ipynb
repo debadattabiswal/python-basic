{
 "cells": [
  {
   "cell_type": "markdown",
   "metadata": {},
   "source": [
    "## 1. Syntax \n",
    "        A. Variable and naming rule,reassigning a value  \n",
    "        B. Whitespace(Lines and Indentation)\n",
    "        C. Single Line Comments\n",
    "        D. Multi-Line Comments\n",
    "## 2. Data Types\n",
    "## 3. Math Operators \n",
    "## 4. Fundamentals of String(str)  "
   ]
  },
  {
   "cell_type": "code",
   "execution_count": 90,
   "metadata": {},
   "outputs": [
    {
     "name": "stdout",
     "output_type": "stream",
     "text": [
      "5\n"
     ]
    }
   ],
   "source": [
    "# A. Variable and naming rule, reassigning a value\n",
    "''' variable name \n",
    "--------------\n",
    "A variable name must start with a letter or the underscore character\n",
    "A variable name cannot start with a number\n",
    "A variable name can only contain alpha-numeric characters and underscores (A-z, 0-9, and _ ) cann't contain special\n",
    "characters(%,&,+ etc..) \n",
    "Variable names are case-sensitive (age, Age and AGE are three different variables)\n",
    "'''\n",
    "\n",
    "'''A variable stores a piece of data\n",
    "For example:\n",
    "my_var = 5\n",
    "The variable my_var now stores the number 5'''\n",
    "\n",
    "my_var=5\n",
    "print(my_var)\n",
    "\n"
   ]
  },
  {
   "cell_type": "code",
   "execution_count": 91,
   "metadata": {},
   "outputs": [
    {
     "name": "stdout",
     "output_type": "stream",
     "text": [
      "5\n",
      "2\n"
     ]
    }
   ],
   "source": [
    " #Reassigning a value\n",
    "my_var = 5\n",
    "print(my_var)\n",
    "\n",
    "my_var = 2\n",
    "print(my_var)\n",
    "\n"
   ]
  },
  {
   "cell_type": "code",
   "execution_count": 92,
   "metadata": {},
   "outputs": [
    {
     "name": "stdout",
     "output_type": "stream",
     "text": [
      "position of apple is 0\n",
      "position of banana is 1\n",
      "position of cherry is 2\n",
      "end of the for loop\n"
     ]
    }
   ],
   "source": [
    "# B. Whitespace (Lines and Indentation)\n",
    "#Blocks are written inside {} in other programming language like C, Java but in python for writting block of code we can use \n",
    "#same number of white spaces for all lines belong to a block  \n",
    "'''in java same below code can be written like this\n",
    "\n",
    "import java.util.ArrayList; \n",
    "import java.util.Arrays; \n",
    "import java.util.List; \n",
    "public class HelloWorld{\n",
    "\n",
    " public static void main(String []args){\n",
    "    List<String> fruits=Arrays.asList(\"apple\", \"banana\", \"cherry\");\n",
    "    int i=-1;\n",
    "    for(String x:fruits){\n",
    "       i=i+1;\n",
    "     System.out.println(\"position of\"+x+ \"is \"+i);\n",
    "   } //for loop block\n",
    "   System.out.println(\"end of the for loop);\n",
    " }\n",
    "}\n",
    "\n",
    "'''\n",
    "#Indentation refers to the spaces at the beginning of a code line.\n",
    "#The number of spaces in the indentation is variable, but all statements within the block must be indented the same amount.\n",
    "\n",
    "\n",
    "''' Example in below codes for loop is a block. There are two lines below 'for loop' and both the line of codes having \n",
    "same number of white spaces from beginning of the line. So both the lines are part of the 'for loop' block.\n",
    "'''\n",
    "\n",
    "fruits = [\"apple\", \"banana\", \"cherry\"]\n",
    "i=-1\n",
    "for x in fruits:\n",
    "   i=i+1 # this statement belong to 'for loop' block and having same number of space from beginnig of the line like other statements \n",
    "   print('position of %s is %d' % (x,i)) # this line belongs to for loop block \n",
    "    \n",
    "print('end of the for loop') #this statement is not part/control of for loop block    \n",
    "  \n",
    "  \n",
    "  \n"
   ]
  },
  {
   "cell_type": "code",
   "execution_count": null,
   "metadata": {},
   "outputs": [],
   "source": [
    "# this is another example of Indentation\n",
    "if True:\n",
    "    print (\"Answer\") # this line belongs to if block\n",
    "    print (\"True\")  # this line belongs to if block\n",
    "else:\n",
    "    print (\"Answer\") # this line belongs to else block \n",
    "    print (\"False\")  # this line belongs to else bock \n"
   ]
  },
  {
   "cell_type": "code",
   "execution_count": 7,
   "metadata": {},
   "outputs": [
    {
     "name": "stdout",
     "output_type": "stream",
     "text": [
      "5\n",
      "2\n"
     ]
    }
   ],
   "source": [
    "my_var = 5\n",
    "print(my_var)\n",
    "\n",
    "my_var = 2\n",
    "print(my_var)"
   ]
  },
  {
   "cell_type": "code",
   "execution_count": 62,
   "metadata": {},
   "outputs": [
    {
     "name": "stdout",
     "output_type": "stream",
     "text": [
      "5\n"
     ]
    }
   ],
   "source": [
    "#C.Single Line Comments\n",
    "# The # sign is for comments. A comment is a line of text that Python won't run as code. It's just for humans to comment and read.\n",
    "\n",
    "my_var = 5\n",
    "#This is to print the my_var value\n",
    "print(my_var)"
   ]
  },
  {
   "cell_type": "code",
   "execution_count": 17,
   "metadata": {},
   "outputs": [
    {
     "name": "stdout",
     "output_type": "stream",
     "text": [
      "5\n"
     ]
    }
   ],
   "source": [
    "#D .Multi-Line Comments\n",
    "#Instead, for multi-line comments, you can include the whole block in a set of triple quotation marks:\n",
    "my_var = 5\n",
    "\n",
    "'''This is a multi line comment\n",
    "This is to print the my_var value\n",
    "Its now completed'''\n",
    "\n",
    "print(my_var)"
   ]
  },
  {
   "cell_type": "markdown",
   "metadata": {},
   "source": [
    "## 2. Data Types\n",
    "Datatype defines what type of value we can store in a variable\n",
    "\n",
    "Text Type:\tstr\n",
    "Numeric Types:\tint, float, complex\n",
    "Sequence Types:\tlist, tuple, range\n",
    "Mapping Type:\tdict\n",
    "Set Types:\tset, frozenset\n",
    "Boolean Type:\tbool\n",
    "Binary Types:\tbytes, bytearray, memoryview"
   ]
  },
  {
   "cell_type": "markdown",
   "metadata": {},
   "source": [
    "## 6. Arithmetic Operators like \n",
    "addition = 12 + 13   \n",
    "subtraction = 124 - 254    \n",
    "multiplication = 124 * 0.5  \n",
    "division = 99 / 9 (gives quotient of division operation) \n",
    "power = 2** 3\n",
    "floor_division=8//3 (floor value of quotient in this case output is 2 )\n",
    "modulus=10%3(gives reminder in this case output is 1)\n"
   ]
  },
  {
   "cell_type": "code",
   "execution_count": 66,
   "metadata": {},
   "outputs": [
    {
     "name": "stdout",
     "output_type": "stream",
     "text": [
      "25\n",
      "-130\n",
      "62.0\n",
      "10.555555555555555\n",
      "8\n",
      "2\n",
      "1\n"
     ]
    }
   ],
   "source": [
    "addition = 12 + 13\n",
    "print(addition)\n",
    "subtraction = 124 - 254\n",
    "print(subtraction)\n",
    "multiplication = 124 * 0.5\n",
    "print(multiplication)\n",
    "division = 95/9\n",
    "print(division)\n",
    "power = 2 ** 3 \n",
    "print(power)\n",
    "floor_division=8//3\n",
    "print(floor_division)\n",
    "modulus=10%3\n",
    "print(modulus)\n",
    "\n"
   ]
  },
  {
   "cell_type": "markdown",
   "metadata": {},
   "source": [
    "## 4. Fundamentals  of String(str)  \n",
    "String is sequence of characters . In python 'str' inbuilt class is defined for represenation and manipulaiton of String.\n",
    "we can use two single quotes('') or double quotes(\" \") we can use for creating a string .\n",
    "\n",
    "Examples of string \n",
    "a)name ='VISHWATHAN'\n",
    "b)name =name+' KUMAR'\n",
    "c)favourite_color=\"green\"\n",
    "\n",
    "For String python creates an object by contiguous memory(like array) for a given string. We can't change the state(value of string object) of string object.   \n",
    "\n",
    "In above example for a) Python creates a string object for value 'VISHWATHAN'.\n",
    "                 for b) Python creates one string object for ' KUMAR' than it creates anothr object of bigger length which can store 'VISHWATHAN KUMAR'. After creating this object it copies 'VISHWATHAN' from object represented by 'name' and copies ' KUMAR' from object created for it . \n",
    "                 \n",
    "Due to above nature String('str') is called as imutable(once created we cannot change the value of object).                \n",
    "\n",
    "\n",
    "\n",
    "\n",
    "\n"
   ]
  }
 ],
 "metadata": {
  "kernelspec": {
   "display_name": "Python 3",
   "language": "python",
   "name": "python3"
  },
  "language_info": {
   "codemirror_mode": {
    "name": "ipython",
    "version": 3
   },
   "file_extension": ".py",
   "mimetype": "text/x-python",
   "name": "python",
   "nbconvert_exporter": "python",
   "pygments_lexer": "ipython3",
   "version": "3.7.6"
  }
 },
 "nbformat": 4,
 "nbformat_minor": 2
}
